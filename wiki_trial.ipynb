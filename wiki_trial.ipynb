{
 "cells": [
  {
   "cell_type": "code",
   "execution_count": null,
   "metadata": {},
   "outputs": [],
   "source": [
    "import pandas as pd \n",
    "import numpy as np\n",
    "import getpass\n",
    "from zipfile import ZipFile\n",
    "\n",
    "# setting the path where I have the daily zipped file\n",
    "path = ''\n",
    "name = getpass.getuser()\n",
    "\n",
    "if 'dianeba3' in name:\n",
    "    path = '/Users/dianeba3/Documents/GitHub/energy_transition/'\n",
    "    datapath = '/Users/dianeba3/Desktop/MIT_FIRST_YEAR/Mar_Reguant/'\n",
    "else:\n",
    "    raise NameError(\"datapath wasn't initialzed\")\n",
    "    \n",
    "    \n",
    "\n",
    "#anyways"
   ]
  }
 ],
 "metadata": {
  "kernelspec": {
   "display_name": "Python 3.7.4 64-bit",
   "language": "python",
   "name": "python37464bit7f7c1d2718b84958afddde7793913786"
  },
  "language_info": {
   "codemirror_mode": {
    "name": "ipython",
    "version": 3
   },
   "file_extension": ".py",
   "mimetype": "text/x-python",
   "name": "python",
   "nbconvert_exporter": "python",
   "pygments_lexer": "ipython3",
   "version": "3.7.4"
  }
 },
 "nbformat": 4,
 "nbformat_minor": 2
}
